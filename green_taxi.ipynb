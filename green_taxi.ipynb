{
 "cells": [
  {
   "cell_type": "markdown",
   "id": "db88b48a",
   "metadata": {},
   "source": [
    "# Green taxi"
   ]
  },
  {
   "cell_type": "code",
   "execution_count": 1,
   "id": "a7f9b4a8",
   "metadata": {},
   "outputs": [],
   "source": [
    "import io\n",
    "import os\n",
    "import seaborn as sns\n",
    "import pandas as pd\n",
    "import numpy as np\n",
    "import matplotlib.pyplot as plt"
   ]
  },
  {
   "cell_type": "code",
   "execution_count": 2,
   "id": "d77fcb18",
   "metadata": {},
   "outputs": [
    {
     "name": "stdout",
     "output_type": "stream",
     "text": [
      "D:\\Imarticus\\stat\\taxi dataset\n"
     ]
    }
   ],
   "source": [
    "%cd \"D:\\Imarticus\\stat\\taxi dataset\""
   ]
  },
  {
   "cell_type": "code",
   "execution_count": 3,
   "id": "426b7e50",
   "metadata": {},
   "outputs": [
    {
     "name": "stdout",
     "output_type": "stream",
     "text": [
      "Requirement already satisfied: pyarrow in c:\\users\\eswar aditya\\anaconda3\\lib\\site-packages (11.0.0)\n",
      "Requirement already satisfied: numpy>=1.16.6 in c:\\users\\eswar aditya\\anaconda3\\lib\\site-packages (from pyarrow) (1.24.3)\n"
     ]
    }
   ],
   "source": [
    "!pip install pyarrow\n",
    "#arrow is the library to access parquet files"
   ]
  },
  {
   "cell_type": "code",
   "execution_count": 4,
   "id": "1582dae6",
   "metadata": {},
   "outputs": [],
   "source": [
    "greentaxi=pd.read_parquet('green_tripdata_2023-05.parquet',engine='pyarrow')"
   ]
  },
  {
   "cell_type": "code",
   "execution_count": 5,
   "id": "7debaacb",
   "metadata": {},
   "outputs": [
    {
     "name": "stdout",
     "output_type": "stream",
     "text": [
      "<class 'pandas.core.frame.DataFrame'>\n",
      "RangeIndex: 69174 entries, 0 to 69173\n",
      "Data columns (total 20 columns):\n",
      " #   Column                 Non-Null Count  Dtype         \n",
      "---  ------                 --------------  -----         \n",
      " 0   VendorID               69174 non-null  int32         \n",
      " 1   lpep_pickup_datetime   69174 non-null  datetime64[ns]\n",
      " 2   lpep_dropoff_datetime  69174 non-null  datetime64[ns]\n",
      " 3   store_and_fwd_flag     64442 non-null  object        \n",
      " 4   RatecodeID             64442 non-null  float64       \n",
      " 5   PULocationID           69174 non-null  int32         \n",
      " 6   DOLocationID           69174 non-null  int32         \n",
      " 7   passenger_count        64442 non-null  float64       \n",
      " 8   trip_distance          69174 non-null  float64       \n",
      " 9   fare_amount            69174 non-null  float64       \n",
      " 10  extra                  69174 non-null  float64       \n",
      " 11  mta_tax                69174 non-null  float64       \n",
      " 12  tip_amount             69174 non-null  float64       \n",
      " 13  tolls_amount           69174 non-null  float64       \n",
      " 14  ehail_fee              0 non-null      float64       \n",
      " 15  improvement_surcharge  69174 non-null  float64       \n",
      " 16  total_amount           69174 non-null  float64       \n",
      " 17  payment_type           64442 non-null  float64       \n",
      " 18  trip_type              64439 non-null  float64       \n",
      " 19  congestion_surcharge   64442 non-null  float64       \n",
      "dtypes: datetime64[ns](2), float64(14), int32(3), object(1)\n",
      "memory usage: 9.8+ MB\n"
     ]
    }
   ],
   "source": [
    "greentaxi.info()"
   ]
  },
  {
   "cell_type": "code",
   "execution_count": 6,
   "id": "862c2f5f",
   "metadata": {},
   "outputs": [],
   "source": [
    "#in csv only 10000 rows\n",
    "#in parquet or json "
   ]
  },
  {
   "cell_type": "code",
   "execution_count": 7,
   "id": "b192767e",
   "metadata": {},
   "outputs": [],
   "source": [
    "#total_amount is dependent variable\n",
    "greentaxi=greentaxi.drop('ehail_fee',axis=1) # drop null column"
   ]
  },
  {
   "cell_type": "code",
   "execution_count": 8,
   "id": "f07f34ae",
   "metadata": {
    "scrolled": true
   },
   "outputs": [],
   "source": [
    "#create anew variable called \"trip_duration\"\n",
    "greentaxi['trip_duration']=greentaxi.lpep_dropoff_datetime-greentaxi.lpep_pickup_datetime"
   ]
  },
  {
   "cell_type": "code",
   "execution_count": 9,
   "id": "000d785c",
   "metadata": {},
   "outputs": [
    {
     "data": {
      "text/plain": [
       "0   0 days 00:13:16\n",
       "1   0 days 00:20:22\n",
       "2   0 days 00:06:53\n",
       "3   0 days 00:20:27\n",
       "4   0 days 00:03:28\n",
       "Name: trip_duration, dtype: timedelta64[ns]"
      ]
     },
     "execution_count": 9,
     "metadata": {},
     "output_type": "execute_result"
    }
   ],
   "source": [
    "greentaxi.trip_duration.head()"
   ]
  },
  {
   "cell_type": "code",
   "execution_count": 10,
   "id": "67df06bf",
   "metadata": {},
   "outputs": [],
   "source": [
    "#dt refers to datetime library in pandas\n",
    "greentaxi.trip_duration=greentaxi.trip_duration.dt.total_seconds()/60"
   ]
  },
  {
   "cell_type": "code",
   "execution_count": 11,
   "id": "7438f7a8",
   "metadata": {},
   "outputs": [
    {
     "data": {
      "text/plain": [
       "0    13.266667\n",
       "1    20.366667\n",
       "2     6.883333\n",
       "3    20.450000\n",
       "4     3.466667\n",
       "Name: trip_duration, dtype: float64"
      ]
     },
     "execution_count": 11,
     "metadata": {},
     "output_type": "execute_result"
    }
   ],
   "source": [
    "greentaxi.trip_duration.head()"
   ]
  },
  {
   "cell_type": "code",
   "execution_count": 12,
   "id": "0b40599a",
   "metadata": {},
   "outputs": [],
   "source": [
    "#extract new variable 'weekday' from datetime\n",
    "greentaxi['weekday']=greentaxi.lpep_dropoff_datetime.dt.weekday"
   ]
  },
  {
   "cell_type": "code",
   "execution_count": 13,
   "id": "b5bf9eb9",
   "metadata": {},
   "outputs": [
    {
     "data": {
      "text/plain": [
       "weekday\n",
       "2    11980\n",
       "1    11062\n",
       "0    10934\n",
       "3    10085\n",
       "4     9737\n",
       "5     8144\n",
       "6     7232\n",
       "Name: count, dtype: int64"
      ]
     },
     "execution_count": 13,
     "metadata": {},
     "output_type": "execute_result"
    }
   ],
   "source": [
    "greentaxi.weekday.value_counts(dropna=False)\n",
    "#by defaut monday=0 sunday=6"
   ]
  },
  {
   "cell_type": "code",
   "execution_count": 14,
   "id": "99a74f81",
   "metadata": {},
   "outputs": [],
   "source": [
    "#extract new variable 'hourofday' from datetime\n",
    "greentaxi['hourofday']=greentaxi.lpep_dropoff_datetime.dt.hour"
   ]
  },
  {
   "cell_type": "code",
   "execution_count": 15,
   "id": "f0f60269",
   "metadata": {},
   "outputs": [
    {
     "data": {
      "text/plain": [
       "hourofday\n",
       "18    5497\n",
       "17    5260\n",
       "16    4986\n",
       "19    4707\n",
       "15    4693\n",
       "14    4140\n",
       "12    3893\n",
       "11    3729\n",
       "13    3676\n",
       "9     3620\n",
       "10    3548\n",
       "20    3458\n",
       "8     3088\n",
       "21    2999\n",
       "22    2461\n",
       "7     2376\n",
       "23    1896\n",
       "0     1337\n",
       "6      915\n",
       "1      873\n",
       "2      645\n",
       "3      524\n",
       "4      439\n",
       "5      414\n",
       "Name: count, dtype: int64"
      ]
     },
     "execution_count": 15,
     "metadata": {},
     "output_type": "execute_result"
    }
   ],
   "source": [
    "greentaxi.hourofday.value_counts(dropna=False)"
   ]
  },
  {
   "cell_type": "code",
   "execution_count": 16,
   "id": "cbf9a366",
   "metadata": {},
   "outputs": [
    {
     "name": "stdout",
     "output_type": "stream",
     "text": [
      "<class 'pandas.core.frame.DataFrame'>\n",
      "RangeIndex: 69174 entries, 0 to 69173\n",
      "Data columns (total 22 columns):\n",
      " #   Column                 Non-Null Count  Dtype         \n",
      "---  ------                 --------------  -----         \n",
      " 0   VendorID               69174 non-null  int32         \n",
      " 1   lpep_pickup_datetime   69174 non-null  datetime64[ns]\n",
      " 2   lpep_dropoff_datetime  69174 non-null  datetime64[ns]\n",
      " 3   store_and_fwd_flag     64442 non-null  object        \n",
      " 4   RatecodeID             64442 non-null  float64       \n",
      " 5   PULocationID           69174 non-null  int32         \n",
      " 6   DOLocationID           69174 non-null  int32         \n",
      " 7   passenger_count        64442 non-null  float64       \n",
      " 8   trip_distance          69174 non-null  float64       \n",
      " 9   fare_amount            69174 non-null  float64       \n",
      " 10  extra                  69174 non-null  float64       \n",
      " 11  mta_tax                69174 non-null  float64       \n",
      " 12  tip_amount             69174 non-null  float64       \n",
      " 13  tolls_amount           69174 non-null  float64       \n",
      " 14  improvement_surcharge  69174 non-null  float64       \n",
      " 15  total_amount           69174 non-null  float64       \n",
      " 16  payment_type           64442 non-null  float64       \n",
      " 17  trip_type              64439 non-null  float64       \n",
      " 18  congestion_surcharge   64442 non-null  float64       \n",
      " 19  trip_duration          69174 non-null  float64       \n",
      " 20  weekday                69174 non-null  int32         \n",
      " 21  hourofday              69174 non-null  int32         \n",
      "dtypes: datetime64[ns](2), float64(14), int32(5), object(1)\n",
      "memory usage: 10.3+ MB\n"
     ]
    }
   ],
   "source": [
    "greentaxi.info()"
   ]
  },
  {
   "cell_type": "code",
   "execution_count": 17,
   "id": "1adf636c",
   "metadata": {},
   "outputs": [
    {
     "data": {
      "text/plain": [
       "trip_type                4735\n",
       "store_and_fwd_flag       4732\n",
       "RatecodeID               4732\n",
       "congestion_surcharge     4732\n",
       "passenger_count          4732\n",
       "payment_type             4732\n",
       "VendorID                    0\n",
       "tolls_amount                0\n",
       "weekday                     0\n",
       "trip_duration               0\n",
       "total_amount                0\n",
       "improvement_surcharge       0\n",
       "mta_tax                     0\n",
       "tip_amount                  0\n",
       "lpep_pickup_datetime        0\n",
       "extra                       0\n",
       "fare_amount                 0\n",
       "trip_distance               0\n",
       "DOLocationID                0\n",
       "PULocationID                0\n",
       "lpep_dropoff_datetime       0\n",
       "hourofday                   0\n",
       "dtype: int64"
      ]
     },
     "execution_count": 17,
     "metadata": {},
     "output_type": "execute_result"
    }
   ],
   "source": [
    "greentaxi.isnull().sum().sort_values(ascending=False)"
   ]
  },
  {
   "cell_type": "code",
   "execution_count": 18,
   "id": "f843b326",
   "metadata": {},
   "outputs": [
    {
     "data": {
      "text/plain": [
       "trip_type\n",
       "1.0    62256\n",
       "2.0     2183\n",
       "Name: count, dtype: int64"
      ]
     },
     "execution_count": 18,
     "metadata": {},
     "output_type": "execute_result"
    }
   ],
   "source": [
    "greentaxi.trip_type.value_counts()"
   ]
  },
  {
   "cell_type": "code",
   "execution_count": 19,
   "id": "970eec46",
   "metadata": {},
   "outputs": [],
   "source": [
    "greentaxi.trip_type=greentaxi.trip_type.fillna(1.0)"
   ]
  },
  {
   "cell_type": "code",
   "execution_count": 20,
   "id": "4e13e5ef",
   "metadata": {},
   "outputs": [
    {
     "data": {
      "text/plain": [
       "trip_type\n",
       "1.0    66991\n",
       "2.0     2183\n",
       "Name: count, dtype: int64"
      ]
     },
     "execution_count": 20,
     "metadata": {},
     "output_type": "execute_result"
    }
   ],
   "source": [
    "greentaxi.trip_type.value_counts()"
   ]
  },
  {
   "cell_type": "code",
   "execution_count": 21,
   "id": "08a82dcd",
   "metadata": {},
   "outputs": [
    {
     "data": {
      "text/plain": [
       "store_and_fwd_flag       4732\n",
       "RatecodeID               4732\n",
       "congestion_surcharge     4732\n",
       "passenger_count          4732\n",
       "payment_type             4732\n",
       "VendorID                    0\n",
       "tolls_amount                0\n",
       "weekday                     0\n",
       "trip_duration               0\n",
       "trip_type                   0\n",
       "total_amount                0\n",
       "improvement_surcharge       0\n",
       "mta_tax                     0\n",
       "tip_amount                  0\n",
       "lpep_pickup_datetime        0\n",
       "extra                       0\n",
       "fare_amount                 0\n",
       "trip_distance               0\n",
       "DOLocationID                0\n",
       "PULocationID                0\n",
       "lpep_dropoff_datetime       0\n",
       "hourofday                   0\n",
       "dtype: int64"
      ]
     },
     "execution_count": 21,
     "metadata": {},
     "output_type": "execute_result"
    }
   ],
   "source": [
    "greentaxi.isnull().sum().sort_values(ascending=False)"
   ]
  },
  {
   "cell_type": "code",
   "execution_count": 22,
   "id": "e5c3b0cb",
   "metadata": {},
   "outputs": [
    {
     "data": {
      "text/plain": [
       "store_and_fwd_flag\n",
       "N       64240\n",
       "None     4732\n",
       "Y         202\n",
       "Name: count, dtype: int64"
      ]
     },
     "execution_count": 22,
     "metadata": {},
     "output_type": "execute_result"
    }
   ],
   "source": [
    "greentaxi.store_and_fwd_flag.value_counts(dropna=False)"
   ]
  },
  {
   "cell_type": "code",
   "execution_count": 23,
   "id": "277f4be8",
   "metadata": {},
   "outputs": [],
   "source": [
    "greentaxi.store_and_fwd_flag=greentaxi.store_and_fwd_flag.fillna('N')"
   ]
  },
  {
   "cell_type": "code",
   "execution_count": 24,
   "id": "4f5a6a38",
   "metadata": {},
   "outputs": [
    {
     "data": {
      "text/plain": [
       "store_and_fwd_flag\n",
       "N    68972\n",
       "Y      202\n",
       "Name: count, dtype: int64"
      ]
     },
     "execution_count": 24,
     "metadata": {},
     "output_type": "execute_result"
    }
   ],
   "source": [
    "greentaxi.store_and_fwd_flag.value_counts(dropna=False)"
   ]
  },
  {
   "cell_type": "code",
   "execution_count": 25,
   "id": "5930dcd8",
   "metadata": {},
   "outputs": [
    {
     "data": {
      "text/plain": [
       "RatecodeID               4732\n",
       "congestion_surcharge     4732\n",
       "passenger_count          4732\n",
       "payment_type             4732\n",
       "VendorID                    0\n",
       "tip_amount                  0\n",
       "weekday                     0\n",
       "trip_duration               0\n",
       "trip_type                   0\n",
       "total_amount                0\n",
       "improvement_surcharge       0\n",
       "tolls_amount                0\n",
       "mta_tax                     0\n",
       "lpep_pickup_datetime        0\n",
       "extra                       0\n",
       "fare_amount                 0\n",
       "trip_distance               0\n",
       "DOLocationID                0\n",
       "PULocationID                0\n",
       "store_and_fwd_flag          0\n",
       "lpep_dropoff_datetime       0\n",
       "hourofday                   0\n",
       "dtype: int64"
      ]
     },
     "execution_count": 25,
     "metadata": {},
     "output_type": "execute_result"
    }
   ],
   "source": [
    "greentaxi.isnull().sum().sort_values(ascending=False)"
   ]
  },
  {
   "cell_type": "code",
   "execution_count": 26,
   "id": "68dbb78f",
   "metadata": {},
   "outputs": [
    {
     "data": {
      "text/plain": [
       "RatecodeID\n",
       "1.0     61692\n",
       "NaN      4732\n",
       "5.0      2430\n",
       "2.0       220\n",
       "4.0        63\n",
       "3.0        34\n",
       "99.0        3\n",
       "Name: count, dtype: int64"
      ]
     },
     "execution_count": 26,
     "metadata": {},
     "output_type": "execute_result"
    }
   ],
   "source": [
    "greentaxi.RatecodeID.value_counts(dropna=False)"
   ]
  },
  {
   "cell_type": "code",
   "execution_count": 27,
   "id": "7496096f",
   "metadata": {},
   "outputs": [],
   "source": [
    "greentaxi.RatecodeID=greentaxi.RatecodeID.fillna(1.0)"
   ]
  },
  {
   "cell_type": "code",
   "execution_count": 28,
   "id": "d40029f5",
   "metadata": {},
   "outputs": [
    {
     "data": {
      "text/plain": [
       "RatecodeID\n",
       "1.0     66424\n",
       "5.0      2430\n",
       "2.0       220\n",
       "4.0        63\n",
       "3.0        34\n",
       "99.0        3\n",
       "Name: count, dtype: int64"
      ]
     },
     "execution_count": 28,
     "metadata": {},
     "output_type": "execute_result"
    }
   ],
   "source": [
    "greentaxi.RatecodeID.value_counts(dropna=False)"
   ]
  },
  {
   "cell_type": "code",
   "execution_count": 29,
   "id": "92074bf8",
   "metadata": {},
   "outputs": [
    {
     "data": {
      "text/plain": [
       "congestion_surcharge     4732\n",
       "payment_type             4732\n",
       "passenger_count          4732\n",
       "VendorID                    0\n",
       "tip_amount                  0\n",
       "weekday                     0\n",
       "trip_duration               0\n",
       "trip_type                   0\n",
       "total_amount                0\n",
       "improvement_surcharge       0\n",
       "tolls_amount                0\n",
       "mta_tax                     0\n",
       "lpep_pickup_datetime        0\n",
       "extra                       0\n",
       "fare_amount                 0\n",
       "trip_distance               0\n",
       "DOLocationID                0\n",
       "PULocationID                0\n",
       "RatecodeID                  0\n",
       "store_and_fwd_flag          0\n",
       "lpep_dropoff_datetime       0\n",
       "hourofday                   0\n",
       "dtype: int64"
      ]
     },
     "execution_count": 29,
     "metadata": {},
     "output_type": "execute_result"
    }
   ],
   "source": [
    "greentaxi.isnull().sum().sort_values(ascending=False)"
   ]
  },
  {
   "cell_type": "code",
   "execution_count": 30,
   "id": "1f99b40a",
   "metadata": {},
   "outputs": [
    {
     "data": {
      "text/plain": [
       "count    64442.000000\n",
       "mean         0.746311\n",
       "std          1.223041\n",
       "min         -2.750000\n",
       "25%          0.000000\n",
       "50%          0.000000\n",
       "75%          2.750000\n",
       "max          2.750000\n",
       "Name: congestion_surcharge, dtype: float64"
      ]
     },
     "execution_count": 30,
     "metadata": {},
     "output_type": "execute_result"
    }
   ],
   "source": [
    "greentaxi.congestion_surcharge.describe()"
   ]
  },
  {
   "cell_type": "code",
   "execution_count": 31,
   "id": "98e6ea4a",
   "metadata": {},
   "outputs": [],
   "source": [
    "greentaxi.congestion_surcharge=greentaxi.congestion_surcharge.fillna(greentaxi.congestion_surcharge.median())"
   ]
  },
  {
   "cell_type": "code",
   "execution_count": 32,
   "id": "3a4ca9aa",
   "metadata": {},
   "outputs": [
    {
     "data": {
      "text/plain": [
       "payment_type             4732\n",
       "passenger_count          4732\n",
       "VendorID                    0\n",
       "tip_amount                  0\n",
       "weekday                     0\n",
       "trip_duration               0\n",
       "congestion_surcharge        0\n",
       "trip_type                   0\n",
       "total_amount                0\n",
       "improvement_surcharge       0\n",
       "tolls_amount                0\n",
       "mta_tax                     0\n",
       "lpep_pickup_datetime        0\n",
       "extra                       0\n",
       "fare_amount                 0\n",
       "trip_distance               0\n",
       "DOLocationID                0\n",
       "PULocationID                0\n",
       "RatecodeID                  0\n",
       "store_and_fwd_flag          0\n",
       "lpep_dropoff_datetime       0\n",
       "hourofday                   0\n",
       "dtype: int64"
      ]
     },
     "execution_count": 32,
     "metadata": {},
     "output_type": "execute_result"
    }
   ],
   "source": [
    "greentaxi.isnull().sum().sort_values(ascending=False)"
   ]
  },
  {
   "cell_type": "code",
   "execution_count": 33,
   "id": "1ade488c",
   "metadata": {},
   "outputs": [
    {
     "data": {
      "text/plain": [
       "passenger_count\n",
       "1.0    54760\n",
       "2.0     5632\n",
       "NaN     4732\n",
       "5.0     1466\n",
       "3.0      937\n",
       "6.0      755\n",
       "0.0      628\n",
       "4.0      255\n",
       "7.0        7\n",
       "9.0        1\n",
       "8.0        1\n",
       "Name: count, dtype: int64"
      ]
     },
     "execution_count": 33,
     "metadata": {},
     "output_type": "execute_result"
    }
   ],
   "source": [
    "greentaxi.passenger_count.value_counts(dropna=False)"
   ]
  },
  {
   "cell_type": "code",
   "execution_count": 34,
   "id": "bfb38257",
   "metadata": {},
   "outputs": [],
   "source": [
    "greentaxi.passenger_count=greentaxi.passenger_count.fillna(1.0)"
   ]
  },
  {
   "cell_type": "code",
   "execution_count": 35,
   "id": "9cf60383",
   "metadata": {},
   "outputs": [
    {
     "data": {
      "text/plain": [
       "passenger_count\n",
       "1.0    59492\n",
       "2.0     5632\n",
       "5.0     1466\n",
       "3.0      937\n",
       "6.0      755\n",
       "0.0      628\n",
       "4.0      255\n",
       "7.0        7\n",
       "9.0        1\n",
       "8.0        1\n",
       "Name: count, dtype: int64"
      ]
     },
     "execution_count": 35,
     "metadata": {},
     "output_type": "execute_result"
    }
   ],
   "source": [
    "greentaxi.passenger_count.value_counts(dropna=False)"
   ]
  },
  {
   "cell_type": "code",
   "execution_count": 36,
   "id": "47c0bc5a",
   "metadata": {},
   "outputs": [
    {
     "data": {
      "text/plain": [
       "payment_type             4732\n",
       "VendorID                    0\n",
       "lpep_pickup_datetime        0\n",
       "weekday                     0\n",
       "trip_duration               0\n",
       "congestion_surcharge        0\n",
       "trip_type                   0\n",
       "total_amount                0\n",
       "improvement_surcharge       0\n",
       "tolls_amount                0\n",
       "tip_amount                  0\n",
       "mta_tax                     0\n",
       "extra                       0\n",
       "fare_amount                 0\n",
       "trip_distance               0\n",
       "passenger_count             0\n",
       "DOLocationID                0\n",
       "PULocationID                0\n",
       "RatecodeID                  0\n",
       "store_and_fwd_flag          0\n",
       "lpep_dropoff_datetime       0\n",
       "hourofday                   0\n",
       "dtype: int64"
      ]
     },
     "execution_count": 36,
     "metadata": {},
     "output_type": "execute_result"
    }
   ],
   "source": [
    "greentaxi.isnull().sum().sort_values(ascending=False)"
   ]
  },
  {
   "cell_type": "code",
   "execution_count": 37,
   "id": "052fa244",
   "metadata": {},
   "outputs": [
    {
     "data": {
      "text/plain": [
       "payment_type\n",
       "1.0    42558\n",
       "2.0    21337\n",
       "NaN     4732\n",
       "3.0      402\n",
       "4.0      144\n",
       "5.0        1\n",
       "Name: count, dtype: int64"
      ]
     },
     "execution_count": 37,
     "metadata": {},
     "output_type": "execute_result"
    }
   ],
   "source": [
    "greentaxi.payment_type.value_counts(dropna=False)"
   ]
  },
  {
   "cell_type": "code",
   "execution_count": 38,
   "id": "025542b3",
   "metadata": {},
   "outputs": [],
   "source": [
    "greentaxi.payment_type=greentaxi.payment_type.fillna(1.0)"
   ]
  },
  {
   "cell_type": "code",
   "execution_count": 39,
   "id": "b7ca0f94",
   "metadata": {},
   "outputs": [
    {
     "data": {
      "text/plain": [
       "VendorID                 0\n",
       "lpep_pickup_datetime     0\n",
       "weekday                  0\n",
       "trip_duration            0\n",
       "congestion_surcharge     0\n",
       "trip_type                0\n",
       "payment_type             0\n",
       "total_amount             0\n",
       "improvement_surcharge    0\n",
       "tolls_amount             0\n",
       "tip_amount               0\n",
       "mta_tax                  0\n",
       "extra                    0\n",
       "fare_amount              0\n",
       "trip_distance            0\n",
       "passenger_count          0\n",
       "DOLocationID             0\n",
       "PULocationID             0\n",
       "RatecodeID               0\n",
       "store_and_fwd_flag       0\n",
       "lpep_dropoff_datetime    0\n",
       "hourofday                0\n",
       "dtype: int64"
      ]
     },
     "execution_count": 39,
     "metadata": {},
     "output_type": "execute_result"
    }
   ],
   "source": [
    "greentaxi.isnull().sum().sort_values(ascending=False)"
   ]
  },
  {
   "cell_type": "code",
   "execution_count": 40,
   "id": "0c31f180",
   "metadata": {},
   "outputs": [
    {
     "data": {
      "text/plain": [
       "<Axes: ylabel='count'>"
      ]
     },
     "execution_count": 40,
     "metadata": {},
     "output_type": "execute_result"
    },
    {
     "data": {
      "image/png": "[encoded data removed]",
      "text/plain": [
       "<Figure size 640x480 with 1 Axes>"
      ]
     },
     "metadata": {},
     "output_type": "display_data"
    }
   ],
   "source": [
    "#pie diagrams of-trip_type,payment_type,RatecodeId\n",
    "greentaxi.trip_type.value_counts().plot(kind='pie',autopct='%0.2f%%')"
   ]
  },
  {
   "cell_type": "code",
   "execution_count": 41,
   "id": "49046624",
   "metadata": {},
   "outputs": [
    {
     "data": {
      "text/plain": [
       "<Axes: ylabel='count'>"
      ]
     },
     "execution_count": 41,
     "metadata": {},
     "output_type": "execute_result"
    },
    {
     "data": {
      "image/png": "[encoded data removed]",
      "text/plain": [
       "<Figure size 640x480 with 1 Axes>"
      ]
     },
     "metadata": {},
     "output_type": "display_data"
    }
   ],
   "source": [
    "greentaxi.payment_type.value_counts().plot(kind='pie',autopct='%0.2f%%')"
   ]
  },
  {
   "cell_type": "code",
   "execution_count": 42,
   "id": "745b53b4",
   "metadata": {},
   "outputs": [
    {
     "data": {
      "text/plain": [
       "<Axes: ylabel='count'>"
      ]
     },
     "execution_count": 42,
     "metadata": {},
     "output_type": "execute_result"
    },
    {
     "data": {
      "image/png": "[encoded data removed]",
      "text/plain": [
       "<Figure size 640x480 with 1 Axes>"
      ]
     },
     "metadata": {},
     "output_type": "display_data"
    }
   ],
   "source": [
    "greentaxi.RatecodeID.value_counts().plot(kind='pie',autopct='%0.2f%%')"
   ]
  },
  {
   "cell_type": "code",
   "execution_count": 43,
   "id": "dd9d035b",
   "metadata": {},
   "outputs": [
    {
     "data": {
      "text/plain": [
       "<Axes: xlabel='weekday'>"
      ]
     },
     "execution_count": 43,
     "metadata": {},
     "output_type": "execute_result"
    },
    {
     "data": {
      "image/png": "[encoded data removed]",
      "text/plain": [
       "<Figure size 640x480 with 1 Axes>"
      ]
     },
     "metadata": {},
     "output_type": "display_data"
    }
   ],
   "source": [
    "#stacked Bar diagram of weekdayand trip_type,weekday&payment_type,hour and payment_type\n",
    "pd.crosstab(greentaxi.weekday,greentaxi.trip_type).plot(kind='bar',stacked=True)"
   ]
  },
  {
   "cell_type": "code",
   "execution_count": 44,
   "id": "d65f7008",
   "metadata": {},
   "outputs": [
    {
     "data": {
      "text/plain": [
       "<Axes: xlabel='weekday'>"
      ]
     },
     "execution_count": 44,
     "metadata": {},
     "output_type": "execute_result"
    },
    {
     "data": {
      "image/png": "[encoded data removed]",
      "text/plain": [
       "<Figure size 640x480 with 1 Axes>"
      ]
     },
     "metadata": {},
     "output_type": "display_data"
    }
   ],
   "source": [
    "pd.crosstab(greentaxi.weekday,greentaxi.payment_type).plot(kind='bar',stacked=True)"
   ]
  },
  {
   "cell_type": "code",
   "execution_count": 45,
   "id": "f2b28da6",
   "metadata": {},
   "outputs": [
    {
     "data": {
      "text/plain": [
       "<Axes: xlabel='hourofday'>"
      ]
     },
     "execution_count": 45,
     "metadata": {},
     "output_type": "execute_result"
    },
    {
     "data": {
      "image/png": "[encoded data removed]",
      "text/plain": [
       "<Figure size 640x480 with 1 Axes>"
      ]
     },
     "metadata": {},
     "output_type": "display_data"
    }
   ],
   "source": [
    "pd.crosstab(greentaxi.hourofday,greentaxi.payment_type).plot(kind='bar',stacked=True)"
   ]
  },
  {
   "cell_type": "code",
   "execution_count": 46,
   "id": "c349d597",
   "metadata": {},
   "outputs": [
    {
     "data": {
      "text/plain": [
       "weekday\n",
       "0    22.877701\n",
       "1    23.908406\n",
       "2    24.135164\n",
       "3    24.015407\n",
       "4    23.763881\n",
       "5    23.861000\n",
       "6    24.365744\n",
       "Name: total_amount, dtype: float64"
      ]
     },
     "execution_count": 46,
     "metadata": {},
     "output_type": "execute_result"
    }
   ],
   "source": [
    "#groupby() mean forfollowing : weekday& total_amount,hour&total_amount,payment_type&totalamount\n",
    "greentaxi.total_amount.groupby(greentaxi.weekday).mean()"
   ]
  },
  {
   "cell_type": "code",
   "execution_count": 47,
   "id": "c9a38189",
   "metadata": {},
   "outputs": [
    {
     "data": {
      "text/plain": [
       "hourofday\n",
       "0     23.515759\n",
       "1     23.969381\n",
       "2     25.666543\n",
       "3     27.938168\n",
       "4     29.177699\n",
       "5     32.225821\n",
       "6     22.522634\n",
       "7     22.075034\n",
       "8     22.409683\n",
       "9     23.088431\n",
       "10    23.589651\n",
       "11    23.561132\n",
       "12    23.328017\n",
       "13    23.481782\n",
       "14    23.229157\n",
       "15    23.164769\n",
       "16    24.449924\n",
       "17    24.385861\n",
       "18    24.317724\n",
       "19    23.859717\n",
       "20    22.973994\n",
       "21    24.152754\n",
       "22    26.247944\n",
       "23    24.327289\n",
       "Name: total_amount, dtype: float64"
      ]
     },
     "execution_count": 47,
     "metadata": {},
     "output_type": "execute_result"
    }
   ],
   "source": [
    "greentaxi.total_amount.groupby(greentaxi.hourofday).mean()"
   ]
  },
  {
   "cell_type": "code",
   "execution_count": 48,
   "id": "21512d4e",
   "metadata": {},
   "outputs": [
    {
     "data": {
      "text/plain": [
       "payment_type\n",
       "1.0    25.780425\n",
       "2.0    19.963180\n",
       "3.0     5.431393\n",
       "4.0     4.038542\n",
       "5.0     4.500000\n",
       "Name: total_amount, dtype: float64"
      ]
     },
     "execution_count": 48,
     "metadata": {},
     "output_type": "execute_result"
    }
   ],
   "source": [
    "greentaxi.total_amount.groupby(greentaxi.payment_type).mean()"
   ]
  },
  {
   "cell_type": "code",
   "execution_count": 49,
   "id": "1788b591",
   "metadata": {},
   "outputs": [
    {
     "data": {
      "text/plain": [
       "weekday\n",
       "0    18.102442\n",
       "1    19.206054\n",
       "2    20.190806\n",
       "3    20.043437\n",
       "4    20.436111\n",
       "5    22.531876\n",
       "6    20.442245\n",
       "Name: trip_duration, dtype: float64"
      ]
     },
     "execution_count": 49,
     "metadata": {},
     "output_type": "execute_result"
    }
   ],
   "source": [
    "#groupby() mean for following:weekday & trip_duration,hour & trip_duration, payment_typ & trip_duration\n",
    "greentaxi.trip_duration.groupby(greentaxi.weekday).mean()"
   ]
  },
  {
   "cell_type": "code",
   "execution_count": 50,
   "id": "bf3a2cf3",
   "metadata": {},
   "outputs": [
    {
     "data": {
      "text/plain": [
       "hourofday\n",
       "0     42.793169\n",
       "1     19.300477\n",
       "2     21.524755\n",
       "3     13.562214\n",
       "4     11.896963\n",
       "5     13.901771\n",
       "6     16.319508\n",
       "7     21.879440\n",
       "8     21.502882\n",
       "9     18.991220\n",
       "10    18.383286\n",
       "11    19.524336\n",
       "12    19.878787\n",
       "13    21.181180\n",
       "14    20.780857\n",
       "15    22.732264\n",
       "16    20.811883\n",
       "17    19.568254\n",
       "18    18.396692\n",
       "19    18.400921\n",
       "20    18.956820\n",
       "21    17.760565\n",
       "22    17.970811\n",
       "23    17.491350\n",
       "Name: trip_duration, dtype: float64"
      ]
     },
     "execution_count": 50,
     "metadata": {},
     "output_type": "execute_result"
    }
   ],
   "source": [
    "greentaxi.trip_duration.groupby(greentaxi.hourofday).mean()"
   ]
  },
  {
   "cell_type": "code",
   "execution_count": 51,
   "id": "17c2d8e6",
   "metadata": {},
   "outputs": [
    {
     "data": {
      "text/plain": [
       "payment_type\n",
       "1.0    20.188720\n",
       "2.0    19.918320\n",
       "3.0    11.054270\n",
       "4.0     3.969560\n",
       "5.0     0.533333\n",
       "Name: trip_duration, dtype: float64"
      ]
     },
     "execution_count": 51,
     "metadata": {},
     "output_type": "execute_result"
    }
   ],
   "source": [
    "greentaxi.trip_duration.groupby(greentaxi.payment_type).mean()"
   ]
  },
  {
   "cell_type": "markdown",
   "id": "b17e2b92",
   "metadata": {},
   "source": [
    "# Hypothesis Testing"
   ]
  },
  {
   "cell_type": "code",
   "execution_count": 52,
   "id": "a75795ae",
   "metadata": {},
   "outputs": [
    {
     "data": {
      "text/plain": [
       "trip_type\n",
       "1.0    23.352330\n",
       "2.0    38.242895\n",
       "Name: total_amount, dtype: float64"
      ]
     },
     "execution_count": 52,
     "metadata": {},
     "output_type": "execute_result"
    }
   ],
   "source": [
    "#testnull average total_amount of different trip_type is equal\n",
    "greentaxi.total_amount.groupby(greentaxi.trip_type).mean()"
   ]
  },
  {
   "cell_type": "code",
   "execution_count": 53,
   "id": "e44c4d73",
   "metadata": {},
   "outputs": [
    {
     "data": {
      "text/plain": [
       "trip_type\n",
       "1.0     268.737906\n",
       "2.0    1697.012919\n",
       "Name: total_amount, dtype: float64"
      ]
     },
     "execution_count": 53,
     "metadata": {},
     "output_type": "execute_result"
    }
   ],
   "source": [
    "greentaxi.total_amount.groupby(greentaxi.trip_type).var()"
   ]
  },
  {
   "cell_type": "code",
   "execution_count": 54,
   "id": "45997024",
   "metadata": {},
   "outputs": [],
   "source": [
    "#null-there is no significance difference in average amount of total_amount of trip_type 1 & 2\n",
    "#alt-there is significance difference in average amount of total_amount of trip_type 1 & 2"
   ]
  },
  {
   "cell_type": "code",
   "execution_count": 55,
   "id": "5fb71987",
   "metadata": {},
   "outputs": [],
   "source": [
    "ones=greentaxi[greentaxi.trip_type==1.0]\n",
    "twos=greentaxi[greentaxi.trip_type==2.0]"
   ]
  },
  {
   "cell_type": "code",
   "execution_count": 56,
   "id": "69fa277b",
   "metadata": {},
   "outputs": [
    {
     "data": {
      "text/plain": [
       "TtestResult(statistic=-16.84526324273241, pvalue=5.457304023638798e-60, df=2204.5760590335676)"
      ]
     },
     "execution_count": 56,
     "metadata": {},
     "output_type": "execute_result"
    }
   ],
   "source": [
    "from scipy.stats import ttest_ind\n",
    "ttest_ind(ones.total_amount,twos.total_amount,equal_var=False)\n",
    "#since pvalue=5.457304023638798e-60 is lessthan 0.05,reject null"
   ]
  },
  {
   "cell_type": "code",
   "execution_count": 57,
   "id": "0b287bd8",
   "metadata": {},
   "outputs": [
    {
     "data": {
      "text/plain": [
       "trip_type\n",
       "1.0    14.350393\n",
       "2.0    78.419367\n",
       "Name: tip_amount, dtype: float64"
      ]
     },
     "execution_count": 57,
     "metadata": {},
     "output_type": "execute_result"
    }
   ],
   "source": [
    "greentaxi.tip_amount.groupby(greentaxi.trip_type).var()"
   ]
  },
  {
   "cell_type": "code",
   "execution_count": 58,
   "id": "b1c88e09",
   "metadata": {},
   "outputs": [],
   "source": [
    "#null-there is no significance difference in average tip_amount of trip_type 1 & 2\n",
    "#alt-there is significance difference in average tip_amount of trip_type 1 & 2"
   ]
  },
  {
   "cell_type": "code",
   "execution_count": 59,
   "id": "f86e8e33",
   "metadata": {},
   "outputs": [
    {
     "data": {
      "text/plain": [
       "TtestResult(statistic=-3.27456904334513, pvalue=0.0010745858666445013, df=2208.098340550297)"
      ]
     },
     "execution_count": 59,
     "metadata": {},
     "output_type": "execute_result"
    }
   ],
   "source": [
    "# Test Null Average tip_amount of different trip_type is equal\n",
    "ttest_ind(ones.tip_amount,twos.tip_amount,equal_var=False)\n",
    "#since pvalue=0.0010745858666445013 is lessthan 0.05,reject null"
   ]
  },
  {
   "cell_type": "code",
   "execution_count": 60,
   "id": "1c4ce07c",
   "metadata": {},
   "outputs": [
    {
     "data": {
      "text/plain": [
       "weekday\n",
       "0    22.877701\n",
       "1    23.908406\n",
       "2    24.135164\n",
       "3    24.015407\n",
       "4    23.763881\n",
       "5    23.861000\n",
       "6    24.365744\n",
       "Name: total_amount, dtype: float64"
      ]
     },
     "execution_count": 60,
     "metadata": {},
     "output_type": "execute_result"
    }
   ],
   "source": [
    "# Test Null Average total_amount for different weekday equal\n",
    "greentaxi.total_amount.groupby(greentaxi.weekday).mean()"
   ]
  },
  {
   "cell_type": "code",
   "execution_count": 61,
   "id": "6788e178",
   "metadata": {},
   "outputs": [],
   "source": [
    "zero=greentaxi[greentaxi.weekday==0]\n",
    "one=greentaxi[greentaxi.weekday==1]\n",
    "two=greentaxi[greentaxi.weekday==2]\n",
    "three=greentaxi[greentaxi.weekday==3]\n",
    "four=greentaxi[greentaxi.weekday==4]\n",
    "five=greentaxi[greentaxi.weekday==5]\n",
    "six=greentaxi[greentaxi.weekday==6]"
   ]
  },
  {
   "cell_type": "code",
   "execution_count": 62,
   "id": "e335af1b",
   "metadata": {},
   "outputs": [],
   "source": [
    "from scipy.stats import f_oneway"
   ]
  },
  {
   "cell_type": "code",
   "execution_count": 63,
   "id": "8de7c314",
   "metadata": {},
   "outputs": [
    {
     "data": {
      "text/plain": [
       "F_onewayResult(statistic=7.057962027034131, pvalue=1.5781665738843715e-07)"
      ]
     },
     "execution_count": 63,
     "metadata": {},
     "output_type": "execute_result"
    }
   ],
   "source": [
    "f_oneway(zero.total_amount,one.total_amount,two.total_amount,three.total_amount,four.total_amount,five.total_amount,six.total_amount)\n",
    "#since pvalue=1.5781665738843715e-07 is lessthan 0.05,reject null"
   ]
  },
  {
   "cell_type": "code",
   "execution_count": 64,
   "id": "6ed590f8",
   "metadata": {},
   "outputs": [
    {
     "data": {
      "text/plain": [
       "weekday\n",
       "0    2.267933\n",
       "1    2.408225\n",
       "2    2.485913\n",
       "3    2.510017\n",
       "4    2.325503\n",
       "5    2.398024\n",
       "6    2.513699\n",
       "Name: tip_amount, dtype: float64"
      ]
     },
     "execution_count": 64,
     "metadata": {},
     "output_type": "execute_result"
    }
   ],
   "source": [
    "# Test Null Average tip_amount for different weekday equal\n",
    "greentaxi.tip_amount.groupby(greentaxi.weekday).mean()"
   ]
  },
  {
   "cell_type": "code",
   "execution_count": 65,
   "id": "1027c14f",
   "metadata": {},
   "outputs": [],
   "source": [
    "#null-there is no significance difference in average tip_amount of weekday 0,1,2,3,4,5,6\n",
    "#alt-there is significance difference in average tip_amount of weekday 0,1,2,3,4,5,6"
   ]
  },
  {
   "cell_type": "markdown",
   "id": "673d9e60",
   "metadata": {},
   "source": [
    "greentaxi.tip_amount.groupby(greentaxi.weekday).var()"
   ]
  },
  {
   "cell_type": "code",
   "execution_count": 66,
   "id": "7107492a",
   "metadata": {},
   "outputs": [
    {
     "data": {
      "text/plain": [
       "F_onewayResult(statistic=5.481926987405262, pvalue=1.1035304312725308e-05)"
      ]
     },
     "execution_count": 66,
     "metadata": {},
     "output_type": "execute_result"
    }
   ],
   "source": [
    "f_oneway(zero.tip_amount,one.tip_amount,two.tip_amount,three.tip_amount,four.tip_amount,five.tip_amount,six.tip_amount)\n",
    "#since pvalue=1.1035304312725308e-05 is lessthan 0.05,reject null"
   ]
  },
  {
   "cell_type": "code",
   "execution_count": 67,
   "id": "ae111258",
   "metadata": {},
   "outputs": [
    {
     "data": {
      "text/html": [
       "<div>\n",
       "<style scoped>\n",
       "    .dataframe tbody tr th:only-of-type {\n",
       "        vertical-align: middle;\n",
       "    }\n",
       "\n",
       "    .dataframe tbody tr th {\n",
       "        vertical-align: top;\n",
       "    }\n",
       "\n",
       "    .dataframe thead th {\n",
       "        text-align: right;\n",
       "    }\n",
       "</style>\n",
       "<table border=\"1\" class=\"dataframe\">\n",
       "  <thead>\n",
       "    <tr style=\"text-align: right;\">\n",
       "      <th>payment_type</th>\n",
       "      <th>1.0</th>\n",
       "      <th>2.0</th>\n",
       "      <th>3.0</th>\n",
       "      <th>4.0</th>\n",
       "      <th>5.0</th>\n",
       "    </tr>\n",
       "    <tr>\n",
       "      <th>trip_type</th>\n",
       "      <th></th>\n",
       "      <th></th>\n",
       "      <th></th>\n",
       "      <th></th>\n",
       "      <th></th>\n",
       "    </tr>\n",
       "  </thead>\n",
       "  <tbody>\n",
       "    <tr>\n",
       "      <th>1.0</th>\n",
       "      <td>45800</td>\n",
       "      <td>20679</td>\n",
       "      <td>378</td>\n",
       "      <td>133</td>\n",
       "      <td>1</td>\n",
       "    </tr>\n",
       "    <tr>\n",
       "      <th>2.0</th>\n",
       "      <td>1490</td>\n",
       "      <td>658</td>\n",
       "      <td>24</td>\n",
       "      <td>11</td>\n",
       "      <td>0</td>\n",
       "    </tr>\n",
       "  </tbody>\n",
       "</table>\n",
       "</div>"
      ],
      "text/plain": [
       "payment_type    1.0    2.0  3.0  4.0  5.0\n",
       "trip_type                                \n",
       "1.0           45800  20679  378  133    1\n",
       "2.0            1490    658   24   11    0"
      ]
     },
     "execution_count": 67,
     "metadata": {},
     "output_type": "execute_result"
    }
   ],
   "source": [
    "# Test Null No Association between trip_type and payment_type\n",
    "pd.crosstab(greentaxi.trip_type,greentaxi.payment_type)"
   ]
  },
  {
   "cell_type": "code",
   "execution_count": 68,
   "id": "b7974228",
   "metadata": {},
   "outputs": [],
   "source": [
    "#null- there is no association between both variables\n",
    "#null- there is association between both variables"
   ]
  },
  {
   "cell_type": "code",
   "execution_count": 69,
   "id": "35822014",
   "metadata": {},
   "outputs": [
    {
     "data": {
      "text/plain": [
       "Chi2ContingencyResult(statistic=20.285910588961, pvalue=0.0004385012882035308, dof=4, expected_freq=array([[4.57976175e+04, 2.06636448e+04, 3.89313644e+02, 1.39455634e+02,\n",
       "        9.68441900e-01],\n",
       "       [1.49238254e+03, 6.73355177e+02, 1.26863561e+01, 4.54436638e+00,\n",
       "        3.15580999e-02]]))"
      ]
     },
     "execution_count": 69,
     "metadata": {},
     "output_type": "execute_result"
    }
   ],
   "source": [
    "from scipy.stats import chi2_contingency\n",
    "chi2_contingency(pd.crosstab(greentaxi.trip_type,greentaxi.payment_type))\n",
    "#since pvalue=0.0004385012882035308 is lessthan 0.05,reject null"
   ]
  },
  {
   "cell_type": "code",
   "execution_count": 70,
   "id": "a7c5bb08",
   "metadata": {},
   "outputs": [
    {
     "data": {
      "text/html": [
       "<div>\n",
       "<style scoped>\n",
       "    .dataframe tbody tr th:only-of-type {\n",
       "        vertical-align: middle;\n",
       "    }\n",
       "\n",
       "    .dataframe tbody tr th {\n",
       "        vertical-align: top;\n",
       "    }\n",
       "\n",
       "    .dataframe thead th {\n",
       "        text-align: right;\n",
       "    }\n",
       "</style>\n",
       "<table border=\"1\" class=\"dataframe\">\n",
       "  <thead>\n",
       "    <tr style=\"text-align: right;\">\n",
       "      <th>payment_type</th>\n",
       "      <th>1.0</th>\n",
       "      <th>2.0</th>\n",
       "      <th>3.0</th>\n",
       "      <th>4.0</th>\n",
       "      <th>5.0</th>\n",
       "    </tr>\n",
       "    <tr>\n",
       "      <th>RatecodeID</th>\n",
       "      <th></th>\n",
       "      <th></th>\n",
       "      <th></th>\n",
       "      <th></th>\n",
       "      <th></th>\n",
       "    </tr>\n",
       "  </thead>\n",
       "  <tbody>\n",
       "    <tr>\n",
       "      <th>1.0</th>\n",
       "      <td>45524</td>\n",
       "      <td>20410</td>\n",
       "      <td>358</td>\n",
       "      <td>131</td>\n",
       "      <td>1</td>\n",
       "    </tr>\n",
       "    <tr>\n",
       "      <th>2.0</th>\n",
       "      <td>138</td>\n",
       "      <td>68</td>\n",
       "      <td>14</td>\n",
       "      <td>0</td>\n",
       "      <td>0</td>\n",
       "    </tr>\n",
       "    <tr>\n",
       "      <th>3.0</th>\n",
       "      <td>22</td>\n",
       "      <td>7</td>\n",
       "      <td>4</td>\n",
       "      <td>1</td>\n",
       "      <td>0</td>\n",
       "    </tr>\n",
       "    <tr>\n",
       "      <th>4.0</th>\n",
       "      <td>38</td>\n",
       "      <td>24</td>\n",
       "      <td>0</td>\n",
       "      <td>1</td>\n",
       "      <td>0</td>\n",
       "    </tr>\n",
       "    <tr>\n",
       "      <th>5.0</th>\n",
       "      <td>1565</td>\n",
       "      <td>828</td>\n",
       "      <td>26</td>\n",
       "      <td>11</td>\n",
       "      <td>0</td>\n",
       "    </tr>\n",
       "    <tr>\n",
       "      <th>99.0</th>\n",
       "      <td>3</td>\n",
       "      <td>0</td>\n",
       "      <td>0</td>\n",
       "      <td>0</td>\n",
       "      <td>0</td>\n",
       "    </tr>\n",
       "  </tbody>\n",
       "</table>\n",
       "</div>"
      ],
      "text/plain": [
       "payment_type    1.0    2.0  3.0  4.0  5.0\n",
       "RatecodeID                               \n",
       "1.0           45524  20410  358  131    1\n",
       "2.0             138     68   14    0    0\n",
       "3.0              22      7    4    1    0\n",
       "4.0              38     24    0    1    0\n",
       "5.0            1565    828   26   11    0\n",
       "99.0              3      0    0    0    0"
      ]
     },
     "execution_count": 70,
     "metadata": {},
     "output_type": "execute_result"
    }
   ],
   "source": [
    "# Test Null No Association between RatecodeID and payment_type\n",
    "pd.crosstab(greentaxi.RatecodeID,greentaxi.payment_type)"
   ]
  },
  {
   "cell_type": "code",
   "execution_count": 71,
   "id": "dd9ecc2e",
   "metadata": {},
   "outputs": [],
   "source": [
    "#null- there is no association between both variables\n",
    "#null- there is association between both variables"
   ]
  },
  {
   "cell_type": "code",
   "execution_count": 72,
   "id": "d678fc1c",
   "metadata": {},
   "outputs": [
    {
     "data": {
      "text/plain": [
       "Chi2ContingencyResult(statistic=257.646461298014, pvalue=3.2670230054629802e-43, dof=20, expected_freq=array([[4.54099945e+04, 2.04887514e+04, 3.86018562e+02, 1.38275306e+02,\n",
       "        9.60245179e-01],\n",
       "       [1.50400439e+02, 6.78598896e+01, 1.27851505e+00, 4.57975540e-01,\n",
       "        3.18038569e-03],\n",
       "       [2.32437043e+01, 1.04874375e+01, 1.97588689e-01, 7.07780380e-02,\n",
       "        4.91514153e-04],\n",
       "       [4.30692168e+01, 1.94326047e+01, 3.66120219e-01, 1.31147541e-01,\n",
       "        9.10746812e-04],\n",
       "       [1.66124122e+03, 7.49543326e+02, 1.41217799e+01, 5.05854801e+00,\n",
       "        3.51288056e-02],\n",
       "       [2.05091508e+00, 9.25362130e-01, 1.74342961e-02, 6.24512100e-03,\n",
       "        4.33688958e-05]]))"
      ]
     },
     "execution_count": 72,
     "metadata": {},
     "output_type": "execute_result"
    }
   ],
   "source": [
    "chi2_contingency(pd.crosstab(greentaxi.RatecodeID,greentaxi.payment_type))\n",
    "#since pvalue=3.2670230054629802e-43 is lessthan 0.05,reject null"
   ]
  },
  {
   "cell_type": "code",
   "execution_count": 73,
   "id": "d7797be1",
   "metadata": {},
   "outputs": [
    {
     "data": {
      "text/html": [
       "<div>\n",
       "<style scoped>\n",
       "    .dataframe tbody tr th:only-of-type {\n",
       "        vertical-align: middle;\n",
       "    }\n",
       "\n",
       "    .dataframe tbody tr th {\n",
       "        vertical-align: top;\n",
       "    }\n",
       "\n",
       "    .dataframe thead th {\n",
       "        text-align: right;\n",
       "    }\n",
       "</style>\n",
       "<table border=\"1\" class=\"dataframe\">\n",
       "  <thead>\n",
       "    <tr style=\"text-align: right;\">\n",
       "      <th>payment_type</th>\n",
       "      <th>1.0</th>\n",
       "      <th>2.0</th>\n",
       "      <th>3.0</th>\n",
       "      <th>4.0</th>\n",
       "      <th>5.0</th>\n",
       "    </tr>\n",
       "    <tr>\n",
       "      <th>weekday</th>\n",
       "      <th></th>\n",
       "      <th></th>\n",
       "      <th></th>\n",
       "      <th></th>\n",
       "      <th></th>\n",
       "    </tr>\n",
       "  </thead>\n",
       "  <tbody>\n",
       "    <tr>\n",
       "      <th>0</th>\n",
       "      <td>7296</td>\n",
       "      <td>3552</td>\n",
       "      <td>60</td>\n",
       "      <td>26</td>\n",
       "      <td>0</td>\n",
       "    </tr>\n",
       "    <tr>\n",
       "      <th>1</th>\n",
       "      <td>7577</td>\n",
       "      <td>3402</td>\n",
       "      <td>61</td>\n",
       "      <td>22</td>\n",
       "      <td>0</td>\n",
       "    </tr>\n",
       "    <tr>\n",
       "      <th>2</th>\n",
       "      <td>8363</td>\n",
       "      <td>3515</td>\n",
       "      <td>81</td>\n",
       "      <td>21</td>\n",
       "      <td>0</td>\n",
       "    </tr>\n",
       "    <tr>\n",
       "      <th>3</th>\n",
       "      <td>7049</td>\n",
       "      <td>2959</td>\n",
       "      <td>61</td>\n",
       "      <td>15</td>\n",
       "      <td>1</td>\n",
       "    </tr>\n",
       "    <tr>\n",
       "      <th>4</th>\n",
       "      <td>6551</td>\n",
       "      <td>3085</td>\n",
       "      <td>61</td>\n",
       "      <td>40</td>\n",
       "      <td>0</td>\n",
       "    </tr>\n",
       "    <tr>\n",
       "      <th>5</th>\n",
       "      <td>5515</td>\n",
       "      <td>2573</td>\n",
       "      <td>46</td>\n",
       "      <td>10</td>\n",
       "      <td>0</td>\n",
       "    </tr>\n",
       "    <tr>\n",
       "      <th>6</th>\n",
       "      <td>4939</td>\n",
       "      <td>2251</td>\n",
       "      <td>32</td>\n",
       "      <td>10</td>\n",
       "      <td>0</td>\n",
       "    </tr>\n",
       "  </tbody>\n",
       "</table>\n",
       "</div>"
      ],
      "text/plain": [
       "payment_type   1.0   2.0  3.0  4.0  5.0\n",
       "weekday                                \n",
       "0             7296  3552   60   26    0\n",
       "1             7577  3402   61   22    0\n",
       "2             8363  3515   81   21    0\n",
       "3             7049  2959   61   15    1\n",
       "4             6551  3085   61   40    0\n",
       "5             5515  2573   46   10    0\n",
       "6             4939  2251   32   10    0"
      ]
     },
     "execution_count": 73,
     "metadata": {},
     "output_type": "execute_result"
    }
   ],
   "source": [
    "# Test Null No Association between weekday and payment_type\n",
    "pd.crosstab(greentaxi.weekday,greentaxi.payment_type)"
   ]
  },
  {
   "cell_type": "code",
   "execution_count": 74,
   "id": "8a59e7d9",
   "metadata": {},
   "outputs": [],
   "source": [
    "#null- there is no association between both variables\n",
    "#null- there is association between both variables"
   ]
  },
  {
   "cell_type": "code",
   "execution_count": 75,
   "id": "383df429",
   "metadata": {},
   "outputs": [
    {
     "data": {
      "text/plain": [
       "Chi2ContingencyResult(statistic=80.80132526421853, pvalue=4.532248995318973e-08, dof=24, expected_freq=array([[7.47490184e+03, 3.37263651e+03, 6.35421979e+01, 2.27613843e+01,\n",
       "        1.58065169e-01],\n",
       "       [7.56240755e+03, 3.41211863e+03, 6.42860612e+01, 2.30278428e+01,\n",
       "        1.59915575e-01],\n",
       "       [8.18998757e+03, 3.69527944e+03, 6.96209559e+01, 2.49388499e+01,\n",
       "        1.73186457e-01],\n",
       "       [6.89449287e+03, 3.11075903e+03, 5.86082921e+01, 2.09940151e+01,\n",
       "        1.45791771e-01],\n",
       "       [6.65658672e+03, 3.00341702e+03, 5.65859138e+01, 2.02695811e+01,\n",
       "        1.40760980e-01],\n",
       "       [5.56755081e+03, 2.51204973e+03, 4.73283025e+01, 1.69534218e+01,\n",
       "        1.17732096e-01],\n",
       "       [4.94407263e+03, 2.23073964e+03, 4.20282765e+01, 1.50549050e+01,\n",
       "        1.04547952e-01]]))"
      ]
     },
     "execution_count": 75,
     "metadata": {},
     "output_type": "execute_result"
    }
   ],
   "source": [
    "chi2_contingency(pd.crosstab(greentaxi.weekday,greentaxi.payment_type))\n",
    "#since pvalue=4.532248995318973e-08 is lessthan 0.05,reject null"
   ]
  },
  {
   "cell_type": "code",
   "execution_count": 76,
   "id": "0d849ff5",
   "metadata": {},
   "outputs": [
    {
     "data": {
      "text/html": [
       "<div>\n",
       "<style scoped>\n",
       "    .dataframe tbody tr th:only-of-type {\n",
       "        vertical-align: middle;\n",
       "    }\n",
       "\n",
       "    .dataframe tbody tr th {\n",
       "        vertical-align: top;\n",
       "    }\n",
       "\n",
       "    .dataframe thead th {\n",
       "        text-align: right;\n",
       "    }\n",
       "</style>\n",
       "<table border=\"1\" class=\"dataframe\">\n",
       "  <thead>\n",
       "    <tr style=\"text-align: right;\">\n",
       "      <th>trip_type</th>\n",
       "      <th>1.0</th>\n",
       "      <th>2.0</th>\n",
       "    </tr>\n",
       "    <tr>\n",
       "      <th>weekday</th>\n",
       "      <th></th>\n",
       "      <th></th>\n",
       "    </tr>\n",
       "  </thead>\n",
       "  <tbody>\n",
       "    <tr>\n",
       "      <th>0</th>\n",
       "      <td>10635</td>\n",
       "      <td>299</td>\n",
       "    </tr>\n",
       "    <tr>\n",
       "      <th>1</th>\n",
       "      <td>10775</td>\n",
       "      <td>287</td>\n",
       "    </tr>\n",
       "    <tr>\n",
       "      <th>2</th>\n",
       "      <td>11679</td>\n",
       "      <td>301</td>\n",
       "    </tr>\n",
       "    <tr>\n",
       "      <th>3</th>\n",
       "      <td>9839</td>\n",
       "      <td>246</td>\n",
       "    </tr>\n",
       "    <tr>\n",
       "      <th>4</th>\n",
       "      <td>9425</td>\n",
       "      <td>312</td>\n",
       "    </tr>\n",
       "    <tr>\n",
       "      <th>5</th>\n",
       "      <td>7782</td>\n",
       "      <td>362</td>\n",
       "    </tr>\n",
       "    <tr>\n",
       "      <th>6</th>\n",
       "      <td>6856</td>\n",
       "      <td>376</td>\n",
       "    </tr>\n",
       "  </tbody>\n",
       "</table>\n",
       "</div>"
      ],
      "text/plain": [
       "trip_type    1.0  2.0\n",
       "weekday              \n",
       "0          10635  299\n",
       "1          10775  287\n",
       "2          11679  301\n",
       "3           9839  246\n",
       "4           9425  312\n",
       "5           7782  362\n",
       "6           6856  376"
      ]
     },
     "execution_count": 76,
     "metadata": {},
     "output_type": "execute_result"
    }
   ],
   "source": [
    "# Test Null No Association between weekday and trip_type\n",
    "pd.crosstab(greentaxi.weekday,greentaxi.trip_type)"
   ]
  },
  {
   "cell_type": "code",
   "execution_count": 77,
   "id": "6ee43df9",
   "metadata": {},
   "outputs": [
    {
     "data": {
      "text/html": [
       "<div>\n",
       "<style scoped>\n",
       "    .dataframe tbody tr th:only-of-type {\n",
       "        vertical-align: middle;\n",
       "    }\n",
       "\n",
       "    .dataframe tbody tr th {\n",
       "        vertical-align: top;\n",
       "    }\n",
       "\n",
       "    .dataframe thead th {\n",
       "        text-align: right;\n",
       "    }\n",
       "</style>\n",
       "<table border=\"1\" class=\"dataframe\">\n",
       "  <thead>\n",
       "    <tr style=\"text-align: right;\">\n",
       "      <th>weekday</th>\n",
       "      <th>0</th>\n",
       "      <th>1</th>\n",
       "      <th>2</th>\n",
       "      <th>3</th>\n",
       "      <th>4</th>\n",
       "      <th>5</th>\n",
       "      <th>6</th>\n",
       "    </tr>\n",
       "    <tr>\n",
       "      <th>trip_type</th>\n",
       "      <th></th>\n",
       "      <th></th>\n",
       "      <th></th>\n",
       "      <th></th>\n",
       "      <th></th>\n",
       "      <th></th>\n",
       "      <th></th>\n",
       "    </tr>\n",
       "  </thead>\n",
       "  <tbody>\n",
       "    <tr>\n",
       "      <th>1.0</th>\n",
       "      <td>10635</td>\n",
       "      <td>10775</td>\n",
       "      <td>11679</td>\n",
       "      <td>9839</td>\n",
       "      <td>9425</td>\n",
       "      <td>7782</td>\n",
       "      <td>6856</td>\n",
       "    </tr>\n",
       "    <tr>\n",
       "      <th>2.0</th>\n",
       "      <td>299</td>\n",
       "      <td>287</td>\n",
       "      <td>301</td>\n",
       "      <td>246</td>\n",
       "      <td>312</td>\n",
       "      <td>362</td>\n",
       "      <td>376</td>\n",
       "    </tr>\n",
       "  </tbody>\n",
       "</table>\n",
       "</div>"
      ],
      "text/plain": [
       "weekday        0      1      2     3     4     5     6\n",
       "trip_type                                             \n",
       "1.0        10635  10775  11679  9839  9425  7782  6856\n",
       "2.0          299    287    301   246   312   362   376"
      ]
     },
     "execution_count": 77,
     "metadata": {},
     "output_type": "execute_result"
    }
   ],
   "source": [
    "pd.crosstab(greentaxi.trip_type,greentaxi.weekday)"
   ]
  },
  {
   "cell_type": "code",
   "execution_count": 78,
   "id": "78cd5ab8",
   "metadata": {},
   "outputs": [],
   "source": [
    "#null- there is no association between both variables\n",
    "#null- there is association between both variables"
   ]
  },
  {
   "cell_type": "code",
   "execution_count": 79,
   "id": "5a4d5462",
   "metadata": {},
   "outputs": [
    {
     "data": {
      "text/plain": [
       "Chi2ContingencyResult(statistic=194.0751725639184, pvalue=3.458694063594574e-39, dof=6, expected_freq=array([[10588.94373609,   345.05626391],\n",
       "       [10712.9042993 ,   349.0957007 ],\n",
       "       [11601.93396363,   378.06603637],\n",
       "       [ 9766.73656287,   318.26343713],\n",
       "       [ 9429.71878162,   307.28121838],\n",
       "       [ 7886.99083471,   257.00916529],\n",
       "       [ 7003.77182178,   228.22817822]]))"
      ]
     },
     "execution_count": 79,
     "metadata": {},
     "output_type": "execute_result"
    }
   ],
   "source": [
    "chi2_contingency(pd.crosstab(greentaxi.weekday,greentaxi.trip_type))\n",
    "#since pvalue=3.458694063594574e-39 is lessthan 0.05,reject null"
   ]
  },
  {
   "cell_type": "code",
   "execution_count": 80,
   "id": "0eeaca67",
   "metadata": {},
   "outputs": [
    {
     "data": {
      "text/plain": [
       "Index(['VendorID', 'lpep_pickup_datetime', 'lpep_dropoff_datetime',\n",
       "       'store_and_fwd_flag', 'RatecodeID', 'PULocationID', 'DOLocationID',\n",
       "       'passenger_count', 'trip_distance', 'fare_amount', 'extra', 'mta_tax',\n",
       "       'tip_amount', 'tolls_amount', 'improvement_surcharge', 'total_amount',\n",
       "       'payment_type', 'trip_type', 'congestion_surcharge', 'trip_duration',\n",
       "       'weekday', 'hourofday'],\n",
       "      dtype='object')"
      ]
     },
     "execution_count": 80,
     "metadata": {},
     "output_type": "execute_result"
    }
   ],
   "source": [
    "greentaxi.columns"
   ]
  },
  {
   "cell_type": "code",
   "execution_count": 81,
   "id": "08812873",
   "metadata": {},
   "outputs": [],
   "source": [
    "#split data into numericcols and object cols\n",
    "numcols=greentaxi[[ 'trip_distance', 'fare_amount', 'extra', 'mta_tax','tip_amount', 'tolls_amount',\n",
    "                   'improvement_surcharge','congestion_surcharge','trip_duration']]"
   ]
  },
  {
   "cell_type": "code",
   "execution_count": 82,
   "id": "3afc73f1",
   "metadata": {},
   "outputs": [],
   "source": [
    "objcols=greentaxi[['store_and_fwd_flag','RatecodeID','passenger_count','payment_type', 'trip_type','weekday','hourofday']]"
   ]
  },
  {
   "cell_type": "code",
   "execution_count": 83,
   "id": "f52c35f2",
   "metadata": {},
   "outputs": [
    {
     "data": {
      "text/html": [
       "<div>\n",
       "<style scoped>\n",
       "    .dataframe tbody tr th:only-of-type {\n",
       "        vertical-align: middle;\n",
       "    }\n",
       "\n",
       "    .dataframe tbody tr th {\n",
       "        vertical-align: top;\n",
       "    }\n",
       "\n",
       "    .dataframe thead th {\n",
       "        text-align: right;\n",
       "    }\n",
       "</style>\n",
       "<table border=\"1\" class=\"dataframe\">\n",
       "  <thead>\n",
       "    <tr style=\"text-align: right;\">\n",
       "      <th></th>\n",
       "      <th>trip_distance</th>\n",
       "      <th>fare_amount</th>\n",
       "      <th>extra</th>\n",
       "      <th>mta_tax</th>\n",
       "      <th>tip_amount</th>\n",
       "      <th>tolls_amount</th>\n",
       "      <th>improvement_surcharge</th>\n",
       "      <th>congestion_surcharge</th>\n",
       "      <th>trip_duration</th>\n",
       "    </tr>\n",
       "  </thead>\n",
       "  <tbody>\n",
       "    <tr>\n",
       "      <th>0</th>\n",
       "      <td>6.99</td>\n",
       "      <td>28.90</td>\n",
       "      <td>1.0</td>\n",
       "      <td>0.5</td>\n",
       "      <td>0.00</td>\n",
       "      <td>0.00</td>\n",
       "      <td>1.0</td>\n",
       "      <td>0.00</td>\n",
       "      <td>13.266667</td>\n",
       "    </tr>\n",
       "    <tr>\n",
       "      <th>1</th>\n",
       "      <td>6.60</td>\n",
       "      <td>30.30</td>\n",
       "      <td>1.0</td>\n",
       "      <td>0.5</td>\n",
       "      <td>5.00</td>\n",
       "      <td>0.00</td>\n",
       "      <td>1.0</td>\n",
       "      <td>2.75</td>\n",
       "      <td>20.366667</td>\n",
       "    </tr>\n",
       "    <tr>\n",
       "      <th>2</th>\n",
       "      <td>1.34</td>\n",
       "      <td>9.30</td>\n",
       "      <td>1.0</td>\n",
       "      <td>0.5</td>\n",
       "      <td>2.36</td>\n",
       "      <td>0.00</td>\n",
       "      <td>1.0</td>\n",
       "      <td>0.00</td>\n",
       "      <td>6.883333</td>\n",
       "    </tr>\n",
       "    <tr>\n",
       "      <th>3</th>\n",
       "      <td>7.79</td>\n",
       "      <td>22.73</td>\n",
       "      <td>0.0</td>\n",
       "      <td>0.0</td>\n",
       "      <td>2.29</td>\n",
       "      <td>6.55</td>\n",
       "      <td>1.0</td>\n",
       "      <td>0.00</td>\n",
       "      <td>20.450000</td>\n",
       "    </tr>\n",
       "    <tr>\n",
       "      <th>4</th>\n",
       "      <td>0.70</td>\n",
       "      <td>6.50</td>\n",
       "      <td>1.0</td>\n",
       "      <td>0.5</td>\n",
       "      <td>0.00</td>\n",
       "      <td>0.00</td>\n",
       "      <td>1.0</td>\n",
       "      <td>0.00</td>\n",
       "      <td>3.466667</td>\n",
       "    </tr>\n",
       "  </tbody>\n",
       "</table>\n",
       "</div>"
      ],
      "text/plain": [
       "   trip_distance  fare_amount  extra  mta_tax  tip_amount  tolls_amount  \\\n",
       "0           6.99        28.90    1.0      0.5        0.00          0.00   \n",
       "1           6.60        30.30    1.0      0.5        5.00          0.00   \n",
       "2           1.34         9.30    1.0      0.5        2.36          0.00   \n",
       "3           7.79        22.73    0.0      0.0        2.29          6.55   \n",
       "4           0.70         6.50    1.0      0.5        0.00          0.00   \n",
       "\n",
       "   improvement_surcharge  congestion_surcharge  trip_duration  \n",
       "0                    1.0                  0.00      13.266667  \n",
       "1                    1.0                  2.75      20.366667  \n",
       "2                    1.0                  0.00       6.883333  \n",
       "3                    1.0                  0.00      20.450000  \n",
       "4                    1.0                  0.00       3.466667  "
      ]
     },
     "execution_count": 83,
     "metadata": {},
     "output_type": "execute_result"
    }
   ],
   "source": [
    "numcols.head()"
   ]
  },
  {
   "cell_type": "code",
   "execution_count": 84,
   "id": "fba730b0",
   "metadata": {},
   "outputs": [
    {
     "data": {
      "text/html": [
       "<div>\n",
       "<style scoped>\n",
       "    .dataframe tbody tr th:only-of-type {\n",
       "        vertical-align: middle;\n",
       "    }\n",
       "\n",
       "    .dataframe tbody tr th {\n",
       "        vertical-align: top;\n",
       "    }\n",
       "\n",
       "    .dataframe thead th {\n",
       "        text-align: right;\n",
       "    }\n",
       "</style>\n",
       "<table border=\"1\" class=\"dataframe\">\n",
       "  <thead>\n",
       "    <tr style=\"text-align: right;\">\n",
       "      <th></th>\n",
       "      <th>store_and_fwd_flag</th>\n",
       "      <th>RatecodeID</th>\n",
       "      <th>passenger_count</th>\n",
       "      <th>payment_type</th>\n",
       "      <th>trip_type</th>\n",
       "      <th>weekday</th>\n",
       "      <th>hourofday</th>\n",
       "    </tr>\n",
       "  </thead>\n",
       "  <tbody>\n",
       "    <tr>\n",
       "      <th>0</th>\n",
       "      <td>N</td>\n",
       "      <td>1.0</td>\n",
       "      <td>1.0</td>\n",
       "      <td>1.0</td>\n",
       "      <td>1.0</td>\n",
       "      <td>0</td>\n",
       "      <td>1</td>\n",
       "    </tr>\n",
       "    <tr>\n",
       "      <th>1</th>\n",
       "      <td>N</td>\n",
       "      <td>1.0</td>\n",
       "      <td>1.0</td>\n",
       "      <td>1.0</td>\n",
       "      <td>1.0</td>\n",
       "      <td>0</td>\n",
       "      <td>0</td>\n",
       "    </tr>\n",
       "    <tr>\n",
       "      <th>2</th>\n",
       "      <td>N</td>\n",
       "      <td>1.0</td>\n",
       "      <td>1.0</td>\n",
       "      <td>1.0</td>\n",
       "      <td>1.0</td>\n",
       "      <td>0</td>\n",
       "      <td>0</td>\n",
       "    </tr>\n",
       "    <tr>\n",
       "      <th>3</th>\n",
       "      <td>N</td>\n",
       "      <td>5.0</td>\n",
       "      <td>1.0</td>\n",
       "      <td>1.0</td>\n",
       "      <td>1.0</td>\n",
       "      <td>0</td>\n",
       "      <td>0</td>\n",
       "    </tr>\n",
       "    <tr>\n",
       "      <th>4</th>\n",
       "      <td>N</td>\n",
       "      <td>1.0</td>\n",
       "      <td>1.0</td>\n",
       "      <td>2.0</td>\n",
       "      <td>1.0</td>\n",
       "      <td>0</td>\n",
       "      <td>0</td>\n",
       "    </tr>\n",
       "  </tbody>\n",
       "</table>\n",
       "</div>"
      ],
      "text/plain": [
       "  store_and_fwd_flag  RatecodeID  passenger_count  payment_type  trip_type  \\\n",
       "0                  N         1.0              1.0           1.0        1.0   \n",
       "1                  N         1.0              1.0           1.0        1.0   \n",
       "2                  N         1.0              1.0           1.0        1.0   \n",
       "3                  N         5.0              1.0           1.0        1.0   \n",
       "4                  N         1.0              1.0           2.0        1.0   \n",
       "\n",
       "   weekday  hourofday  \n",
       "0        0          1  \n",
       "1        0          0  \n",
       "2        0          0  \n",
       "3        0          0  \n",
       "4        0          0  "
      ]
     },
     "execution_count": 84,
     "metadata": {},
     "output_type": "execute_result"
    }
   ],
   "source": [
    "objcols.head()"
   ]
  },
  {
   "cell_type": "code",
   "execution_count": 85,
   "id": "183835d9",
   "metadata": {},
   "outputs": [],
   "source": [
    "objcols_dummy=pd.get_dummies(objcols,columns=['store_and_fwd_flag','RatecodeID','passenger_count','payment_type', 'trip_type','weekday','hourofday'])"
   ]
  },
  {
   "cell_type": "code",
   "execution_count": 86,
   "id": "29a20a8d",
   "metadata": {},
   "outputs": [],
   "source": [
    "x=pd.concat([numcols,objcols_dummy],axis=1)"
   ]
  },
  {
   "cell_type": "code",
   "execution_count": 87,
   "id": "287e0e35",
   "metadata": {},
   "outputs": [],
   "source": [
    "y=greentaxi.total_amount"
   ]
  },
  {
   "cell_type": "code",
   "execution_count": 88,
   "id": "76baaec3",
   "metadata": {},
   "outputs": [
    {
     "data": {
      "text/plain": [
       "<Axes: xlabel='total_amount', ylabel='Count'>"
      ]
     },
     "execution_count": 88,
     "metadata": {},
     "output_type": "execute_result"
    },
    {
     "data": {
      "text/plain": [
       "<Figure size 3000x1500 with 0 Axes>"
      ]
     },
     "metadata": {},
     "output_type": "display_data"
    },
    {
     "data": {
      "image/png": "[encoded data removed]",
      "text/plain": [
       "<Figure size 640x480 with 3 Axes>"
      ]
     },
     "metadata": {},
     "output_type": "display_data"
    }
   ],
   "source": [
    "#hist,box,&density curve-y\n",
    "plt.figure(figsize=(30,15))\n",
    "fig,ax=plt.subplots(3,1)\n",
    "sns.kdeplot(y,ax=ax[0])\n",
    "sns.boxplot(y,orient='h',ax=ax[1])\n",
    "sns.histplot(y,ax=ax[2])"
   ]
  },
  {
   "cell_type": "code",
   "execution_count": 89,
   "id": "6da07844",
   "metadata": {},
   "outputs": [
    {
     "data": {
      "text/plain": [
       "<Axes: ylabel='Density'>"
      ]
     },
     "execution_count": 89,
     "metadata": {},
     "output_type": "execute_result"
    },
    {
     "data": {
      "image/png": "[encoded data removed]",
      "text/plain": [
       "<Figure size 640x480 with 1 Axes>"
      ]
     },
     "metadata": {},
     "output_type": "display_data"
    }
   ],
   "source": [
    "y.plot(kind='density')"
   ]
  },
  {
   "cell_type": "code",
   "execution_count": 90,
   "id": "027d7844",
   "metadata": {},
   "outputs": [
    {
     "name": "stderr",
     "output_type": "stream",
     "text": [
      "C:\\Users\\Eswar Aditya\\anaconda3\\Lib\\site-packages\\pandas\\core\\arraylike.py:396: RuntimeWarning: divide by zero encountered in log\n",
      "  result = getattr(ufunc, method)(*inputs, **kwargs)\n",
      "C:\\Users\\Eswar Aditya\\anaconda3\\Lib\\site-packages\\pandas\\core\\arraylike.py:396: RuntimeWarning: invalid value encountered in log\n",
      "  result = getattr(ufunc, method)(*inputs, **kwargs)\n",
      "C:\\Users\\Eswar Aditya\\anaconda3\\Lib\\site-packages\\pandas\\core\\arraylike.py:396: RuntimeWarning: divide by zero encountered in log\n",
      "  result = getattr(ufunc, method)(*inputs, **kwargs)\n",
      "C:\\Users\\Eswar Aditya\\anaconda3\\Lib\\site-packages\\pandas\\core\\arraylike.py:396: RuntimeWarning: invalid value encountered in log\n",
      "  result = getattr(ufunc, method)(*inputs, **kwargs)\n",
      "C:\\Users\\Eswar Aditya\\anaconda3\\Lib\\site-packages\\pandas\\core\\arraylike.py:396: RuntimeWarning: divide by zero encountered in log\n",
      "  result = getattr(ufunc, method)(*inputs, **kwargs)\n",
      "C:\\Users\\Eswar Aditya\\anaconda3\\Lib\\site-packages\\pandas\\core\\arraylike.py:396: RuntimeWarning: invalid value encountered in log\n",
      "  result = getattr(ufunc, method)(*inputs, **kwargs)\n"
     ]
    },
    {
     "data": {
      "text/plain": [
       "<Axes: xlabel='total_amount', ylabel='Count'>"
      ]
     },
     "execution_count": 90,
     "metadata": {},
     "output_type": "execute_result"
    },
    {
     "data": {
      "text/plain": [
       "<Figure size 3000x1500 with 0 Axes>"
      ]
     },
     "metadata": {},
     "output_type": "display_data"
    },
    {
     "data": {
      "image/png": "[encoded data removed]",
      "text/plain": [
       "<Figure size 640x480 with 3 Axes>"
      ]
     },
     "metadata": {},
     "output_type": "display_data"
    }
   ],
   "source": [
    "#hist,box,&density curve-y\n",
    "plt.figure(figsize=(30,15))\n",
    "fig,ax=plt.subplots(3,1)\n",
    "sns.kdeplot(np.log(y),ax=ax[0])\n",
    "sns.boxplot(np.log(y),orient='h',ax=ax[1])\n",
    "sns.histplot(np.log(y),ax=ax[2])\n",
    "#logarithm transformation"
   ]
  },
  {
   "cell_type": "code",
   "execution_count": 91,
   "id": "7e77b12e",
   "metadata": {},
   "outputs": [
    {
     "data": {
      "text/plain": [
       "<Axes: >"
      ]
     },
     "execution_count": 91,
     "metadata": {},
     "output_type": "execute_result"
    },
    {
     "data": {
      "image/png": "[encoded data removed]",
      "text/plain": [
       "<Figure size 2000x1000 with 2 Axes>"
      ]
     },
     "metadata": {},
     "output_type": "display_data"
    }
   ],
   "source": [
    "plt.figure(figsize=(20,10))\n",
    "sns.heatmap(numcols.corr(),annot=True)"
   ]
  },
  {
   "cell_type": "code",
   "execution_count": 92,
   "id": "97b82fc2",
   "metadata": {},
   "outputs": [],
   "source": [
    "numcols2=numcols"
   ]
  },
  {
   "cell_type": "code",
   "execution_count": 93,
   "id": "d67a05ad",
   "metadata": {
    "scrolled": true
   },
   "outputs": [
    {
     "name": "stderr",
     "output_type": "stream",
     "text": [
      "C:\\Users\\Eswar Aditya\\AppData\\Local\\Temp\\ipykernel_19048\\3269730445.py:1: SettingWithCopyWarning: \n",
      "A value is trying to be set on a copy of a slice from a DataFrame.\n",
      "Try using .loc[row_indexer,col_indexer] = value instead\n",
      "\n",
      "See the caveats in the documentation: https://pandas.pydata.org/pandas-docs/stable/user_guide/indexing.html#returning-a-view-versus-a-copy\n",
      "  numcols2['total_amount']=greentaxi.total_amount\n"
     ]
    }
   ],
   "source": [
    "numcols2['total_amount']=greentaxi.total_amount"
   ]
  },
  {
   "cell_type": "markdown",
   "id": "2e8864b8",
   "metadata": {},
   "source": [
    "x.info()"
   ]
  },
  {
   "cell_type": "code",
   "execution_count": 94,
   "id": "decc7a61",
   "metadata": {},
   "outputs": [],
   "source": [
    "x=x.drop('fare_amount',axis=1)"
   ]
  },
  {
   "cell_type": "markdown",
   "id": "c7b4721e",
   "metadata": {},
   "source": [
    "# Linear Regression"
   ]
  },
  {
   "cell_type": "code",
   "execution_count": 95,
   "id": "6d93ce8d",
   "metadata": {},
   "outputs": [],
   "source": [
    "from sklearn.linear_model import LinearRegression"
   ]
  },
  {
   "cell_type": "code",
   "execution_count": 96,
   "id": "d4551174",
   "metadata": {},
   "outputs": [],
   "source": [
    "reg=LinearRegression()"
   ]
  },
  {
   "cell_type": "code",
   "execution_count": 97,
   "id": "6b809f7e",
   "metadata": {
    "scrolled": false
   },
   "outputs": [],
   "source": [
    "regmodel=reg.fit(x,y)"
   ]
  },
  {
   "cell_type": "code",
   "execution_count": 98,
   "id": "72eddfe2",
   "metadata": {},
   "outputs": [
    {
     "data": {
      "text/plain": [
       "0.46153609909092563"
      ]
     },
     "execution_count": 98,
     "metadata": {},
     "output_type": "execute_result"
    }
   ],
   "source": [
    "regmodel.score(x,y)"
   ]
  },
  {
   "cell_type": "code",
   "execution_count": 99,
   "id": "22de8ab0",
   "metadata": {},
   "outputs": [],
   "source": [
    "regpredict=regmodel.predict(x)"
   ]
  },
  {
   "cell_type": "code",
   "execution_count": 100,
   "id": "3fd0be26",
   "metadata": {},
   "outputs": [],
   "source": [
    "regresid=y-regpredict"
   ]
  },
  {
   "cell_type": "code",
   "execution_count": 101,
   "id": "c5edc5bd",
   "metadata": {},
   "outputs": [
    {
     "data": {
      "text/plain": [
       "13.138104982545144"
      ]
     },
     "execution_count": 101,
     "metadata": {},
     "output_type": "execute_result"
    }
   ],
   "source": [
    "np.sqrt(np.mean(regresid**2)) # rmse"
   ]
  },
  {
   "cell_type": "code",
   "execution_count": 102,
   "id": "ffdd6da2",
   "metadata": {},
   "outputs": [
    {
     "data": {
      "text/plain": [
       "count    69174.000000\n",
       "mean        23.822248\n",
       "std         17.904309\n",
       "min        -96.000000\n",
       "25%         13.500000\n",
       "50%         19.200000\n",
       "75%         28.460000\n",
       "max        744.950000\n",
       "Name: total_amount, dtype: float64"
      ]
     },
     "execution_count": 102,
     "metadata": {},
     "output_type": "execute_result"
    }
   ],
   "source": [
    "greentaxi.total_amount.describe()"
   ]
  },
  {
   "cell_type": "code",
   "execution_count": null,
   "id": "af981a87",
   "metadata": {},
   "outputs": [],
   "source": []
  },
  {
   "cell_type": "markdown",
   "id": "cd3803fe",
   "metadata": {},
   "source": [
    "# Decision Tree"
   ]
  },
  {
   "cell_type": "code",
   "execution_count": 103,
   "id": "18d45025",
   "metadata": {},
   "outputs": [],
   "source": [
    "from sklearn.tree import DecisionTreeRegressor"
   ]
  },
  {
   "cell_type": "code",
   "execution_count": 119,
   "id": "509d5225",
   "metadata": {},
   "outputs": [],
   "source": [
    "tree=DecisionTreeRegressor(max_depth=13)"
   ]
  },
  {
   "cell_type": "code",
   "execution_count": 120,
   "id": "5de0b268",
   "metadata": {},
   "outputs": [],
   "source": [
    "treemodel=tree.fit(x,y)"
   ]
  },
  {
   "cell_type": "code",
   "execution_count": 121,
   "id": "bcbe68cc",
   "metadata": {},
   "outputs": [
    {
     "data": {
      "text/plain": [
       "0.9481231177288694"
      ]
     },
     "execution_count": 121,
     "metadata": {},
     "output_type": "execute_result"
    }
   ],
   "source": [
    "treemodel.score(x,y)"
   ]
  },
  {
   "cell_type": "code",
   "execution_count": 122,
   "id": "fb7f601d",
   "metadata": {},
   "outputs": [],
   "source": [
    "treepredict=tree.predict(x)"
   ]
  },
  {
   "cell_type": "code",
   "execution_count": 123,
   "id": "a1c9d364",
   "metadata": {},
   "outputs": [],
   "source": [
    "treeresid=y-treepredict"
   ]
  },
  {
   "cell_type": "code",
   "execution_count": 124,
   "id": "fa344166",
   "metadata": {},
   "outputs": [
    {
     "data": {
      "text/plain": [
       "4.077945010073083"
      ]
     },
     "execution_count": 124,
     "metadata": {},
     "output_type": "execute_result"
    }
   ],
   "source": [
    "np.sqrt(np.mean(treeresid**2))"
   ]
  },
  {
   "cell_type": "code",
   "execution_count": null,
   "id": "f46a77dc",
   "metadata": {},
   "outputs": [],
   "source": []
  },
  {
   "cell_type": "markdown",
   "id": "0c5df547",
   "metadata": {},
   "source": [
    "# Random Forest"
   ]
  },
  {
   "cell_type": "code",
   "execution_count": 126,
   "id": "9ca4ab4b",
   "metadata": {},
   "outputs": [],
   "source": [
    "from sklearn.ensemble import RandomForestRegressor"
   ]
  },
  {
   "cell_type": "code",
   "execution_count": 145,
   "id": "d3e29266",
   "metadata": {},
   "outputs": [],
   "source": [
    "rf=RandomForestRegressor(max_depth=12)"
   ]
  },
  {
   "cell_type": "code",
   "execution_count": 146,
   "id": "f9d808ba",
   "metadata": {},
   "outputs": [],
   "source": [
    "rfmodel=rf.fit(x,y)"
   ]
  },
  {
   "cell_type": "code",
   "execution_count": 147,
   "id": "48b5f2ab",
   "metadata": {},
   "outputs": [
    {
     "data": {
      "text/plain": [
       "0.9345981198869919"
      ]
     },
     "execution_count": 147,
     "metadata": {},
     "output_type": "execute_result"
    }
   ],
   "source": [
    "rfmodel.score(x,y)"
   ]
  },
  {
   "cell_type": "code",
   "execution_count": 148,
   "id": "bbba4719",
   "metadata": {},
   "outputs": [],
   "source": [
    "rfpredict=rf.predict(x)"
   ]
  },
  {
   "cell_type": "code",
   "execution_count": 149,
   "id": "4b50a529",
   "metadata": {},
   "outputs": [],
   "source": [
    "rfresid=y-rfpredict"
   ]
  },
  {
   "cell_type": "code",
   "execution_count": 150,
   "id": "b7d5ed3c",
   "metadata": {},
   "outputs": [
    {
     "data": {
      "text/plain": [
       "4.578777582821636"
      ]
     },
     "execution_count": 150,
     "metadata": {},
     "output_type": "execute_result"
    }
   ],
   "source": [
    "np.sqrt(np.mean(rfresid**2))"
   ]
  },
  {
   "cell_type": "code",
   "execution_count": null,
   "id": "35a9dbd6",
   "metadata": {},
   "outputs": [],
   "source": []
  },
  {
   "cell_type": "markdown",
   "id": "0d3133b4",
   "metadata": {},
   "source": [
    "# GBM"
   ]
  },
  {
   "cell_type": "code",
   "execution_count": 151,
   "id": "255f42af",
   "metadata": {},
   "outputs": [],
   "source": [
    "from sklearn.ensemble import GradientBoostingRegressor"
   ]
  },
  {
   "cell_type": "code",
   "execution_count": 152,
   "id": "b2095cc4",
   "metadata": {},
   "outputs": [],
   "source": [
    "gbm=GradientBoostingRegressor()"
   ]
  },
  {
   "cell_type": "code",
   "execution_count": 153,
   "id": "47cceb4a",
   "metadata": {},
   "outputs": [],
   "source": [
    "gbmmodel=gbm.fit(x,y)"
   ]
  },
  {
   "cell_type": "code",
   "execution_count": 154,
   "id": "1bed13e8",
   "metadata": {},
   "outputs": [
    {
     "data": {
      "text/plain": [
       "0.866054530776977"
      ]
     },
     "execution_count": 154,
     "metadata": {},
     "output_type": "execute_result"
    }
   ],
   "source": [
    "gbmmodel.score(x,y)"
   ]
  },
  {
   "cell_type": "code",
   "execution_count": 155,
   "id": "5756a60d",
   "metadata": {},
   "outputs": [],
   "source": [
    "gbmpredict=gbmmodel.predict(x)"
   ]
  },
  {
   "cell_type": "code",
   "execution_count": 156,
   "id": "0df3fa03",
   "metadata": {},
   "outputs": [],
   "source": [
    "gbmresid=y-gbmpredict"
   ]
  },
  {
   "cell_type": "code",
   "execution_count": 157,
   "id": "2445cdaf",
   "metadata": {},
   "outputs": [
    {
     "data": {
      "text/plain": [
       "6.552672238057944"
      ]
     },
     "execution_count": 157,
     "metadata": {},
     "output_type": "execute_result"
    }
   ],
   "source": [
    "np.sqrt(np.mean(gbmresid**2))"
   ]
  },
  {
   "cell_type": "code",
   "execution_count": null,
   "id": "93a466ee",
   "metadata": {},
   "outputs": [],
   "source": []
  },
  {
   "cell_type": "markdown",
   "id": "561a1f33",
   "metadata": {},
   "source": [
    "# SVR"
   ]
  },
  {
   "cell_type": "code",
   "execution_count": 158,
   "id": "0f2154bd",
   "metadata": {},
   "outputs": [],
   "source": [
    "from sklearn.svm import SVR"
   ]
  },
  {
   "cell_type": "code",
   "execution_count": 159,
   "id": "3da8ac46",
   "metadata": {},
   "outputs": [],
   "source": [
    "svr=SVR()"
   ]
  },
  {
   "cell_type": "code",
   "execution_count": 160,
   "id": "951cb56f",
   "metadata": {},
   "outputs": [],
   "source": [
    "svrmodel=svr.fit(x,y)"
   ]
  },
  {
   "cell_type": "code",
   "execution_count": 161,
   "id": "64a01863",
   "metadata": {},
   "outputs": [
    {
     "data": {
      "text/html": [
       "<style>#sk-container-id-1 {color: black;}#sk-container-id-1 pre{padding: 0;}#sk-container-id-1 div.sk-toggleable {background-color: white;}#sk-container-id-1 label.sk-toggleable__label {cursor: pointer;display: block;width: 100%;margin-bottom: 0;padding: 0.3em;box-sizing: border-box;text-align: center;}#sk-container-id-1 label.sk-toggleable__label-arrow:before {content: \"▸\";float: left;margin-right: 0.25em;color: #696969;}#sk-container-id-1 label.sk-toggleable__label-arrow:hover:before {color: black;}#sk-container-id-1 div.sk-estimator:hover label.sk-toggleable__label-arrow:before {color: black;}#sk-container-id-1 div.sk-toggleable__content {max-height: 0;max-width: 0;overflow: hidden;text-align: left;background-color: #f0f8ff;}#sk-container-id-1 div.sk-toggleable__content pre {margin: 0.2em;color: black;border-radius: 0.25em;background-color: #f0f8ff;}#sk-container-id-1 input.sk-toggleable__control:checked~div.sk-toggleable__content {max-height: 200px;max-width: 100%;overflow: auto;}#sk-container-id-1 input.sk-toggleable__control:checked~label.sk-toggleable__label-arrow:before {content: \"▾\";}#sk-container-id-1 div.sk-estimator input.sk-toggleable__control:checked~label.sk-toggleable__label {background-color: #d4ebff;}#sk-container-id-1 div.sk-label input.sk-toggleable__control:checked~label.sk-toggleable__label {background-color: #d4ebff;}#sk-container-id-1 input.sk-hidden--visually {border: 0;clip: rect(1px 1px 1px 1px);clip: rect(1px, 1px, 1px, 1px);height: 1px;margin: -1px;overflow: hidden;padding: 0;position: absolute;width: 1px;}#sk-container-id-1 div.sk-estimator {font-family: monospace;background-color: #f0f8ff;border: 1px dotted black;border-radius: 0.25em;box-sizing: border-box;margin-bottom: 0.5em;}#sk-container-id-1 div.sk-estimator:hover {background-color: #d4ebff;}#sk-container-id-1 div.sk-parallel-item::after {content: \"\";width: 100%;border-bottom: 1px solid gray;flex-grow: 1;}#sk-container-id-1 div.sk-label:hover label.sk-toggleable__label {background-color: #d4ebff;}#sk-container-id-1 div.sk-serial::before {content: \"\";position: absolute;border-left: 1px solid gray;box-sizing: border-box;top: 0;bottom: 0;left: 50%;z-index: 0;}#sk-container-id-1 div.sk-serial {display: flex;flex-direction: column;align-items: center;background-color: white;padding-right: 0.2em;padding-left: 0.2em;position: relative;}#sk-container-id-1 div.sk-item {position: relative;z-index: 1;}#sk-container-id-1 div.sk-parallel {display: flex;align-items: stretch;justify-content: center;background-color: white;position: relative;}#sk-container-id-1 div.sk-item::before, #sk-container-id-1 div.sk-parallel-item::before {content: \"\";position: absolute;border-left: 1px solid gray;box-sizing: border-box;top: 0;bottom: 0;left: 50%;z-index: -1;}#sk-container-id-1 div.sk-parallel-item {display: flex;flex-direction: column;z-index: 1;position: relative;background-color: white;}#sk-container-id-1 div.sk-parallel-item:first-child::after {align-self: flex-end;width: 50%;}#sk-container-id-1 div.sk-parallel-item:last-child::after {align-self: flex-start;width: 50%;}#sk-container-id-1 div.sk-parallel-item:only-child::after {width: 0;}#sk-container-id-1 div.sk-dashed-wrapped {border: 1px dashed gray;margin: 0 0.4em 0.5em 0.4em;box-sizing: border-box;padding-bottom: 0.4em;background-color: white;}#sk-container-id-1 div.sk-label label {font-family: monospace;font-weight: bold;display: inline-block;line-height: 1.2em;}#sk-container-id-1 div.sk-label-container {text-align: center;}#sk-container-id-1 div.sk-container {/* jupyter's `normalize.less` sets `[hidden] { display: none; }` but bootstrap.min.css set `[hidden] { display: none !important; }` so we also need the `!important` here to be able to override the default hidden behavior on the sphinx rendered scikit-learn.org. See: https://github.com/scikit-learn/scikit-learn/issues/21755 */display: inline-block !important;position: relative;}#sk-container-id-1 div.sk-text-repr-fallback {display: none;}</style><div id=\"sk-container-id-1\" class=\"sk-top-container\"><div class=\"sk-text-repr-fallback\"><pre>SVR()</pre><b>In a Jupyter environment, please rerun this cell to show the HTML representation or trust the notebook. <br />On GitHub, the HTML representation is unable to render, please try loading this page with nbviewer.org.</b></div><div class=\"sk-container\" hidden><div class=\"sk-item\"><div class=\"sk-estimator sk-toggleable\"><input class=\"sk-toggleable__control sk-hidden--visually\" id=\"sk-estimator-id-1\" type=\"checkbox\" checked><label for=\"sk-estimator-id-1\" class=\"sk-toggleable__label sk-toggleable__label-arrow\">SVR</label><div class=\"sk-toggleable__content\"><pre>SVR()</pre></div></div></div></div></div>"
      ],
      "text/plain": [
       "SVR()"
      ]
     },
     "execution_count": 161,
     "metadata": {},
     "output_type": "execute_result"
    }
   ],
   "source": [
    "svrmodel.fit(x,y)"
   ]
  },
  {
   "cell_type": "code",
   "execution_count": 166,
   "id": "0eb4a76f",
   "metadata": {},
   "outputs": [
    {
     "data": {
      "text/plain": [
       "0.2865765876051074"
      ]
     },
     "execution_count": 166,
     "metadata": {},
     "output_type": "execute_result"
    }
   ],
   "source": [
    "svrmodel.score(x,y)"
   ]
  },
  {
   "cell_type": "code",
   "execution_count": 162,
   "id": "6d95544d",
   "metadata": {},
   "outputs": [],
   "source": [
    "svrpredict=svr.predict(x)"
   ]
  },
  {
   "cell_type": "code",
   "execution_count": 163,
   "id": "fe794449",
   "metadata": {},
   "outputs": [],
   "source": [
    "svrresid=y-svrpredict"
   ]
  },
  {
   "cell_type": "code",
   "execution_count": 164,
   "id": "893185d4",
   "metadata": {},
   "outputs": [
    {
     "data": {
      "text/plain": [
       "228.69476324700102"
      ]
     },
     "execution_count": 164,
     "metadata": {},
     "output_type": "execute_result"
    }
   ],
   "source": [
    "np.mean(np.mean(svrresid**2))"
   ]
  },
  {
   "cell_type": "code",
   "execution_count": null,
   "id": "8a751d16",
   "metadata": {},
   "outputs": [],
   "source": []
  }
 ],
 "metadata": {
  "kernelspec": {
   "display_name": "Python 3 (ipykernel)",
   "language": "python",
   "name": "python3"
  },
  "language_info": {
   "codemirror_mode": {
    "name": "ipython",
    "version": 3
   },
   "file_extension": ".py",
   "mimetype": "text/x-python",
   "name": "python",
   "nbconvert_exporter": "python",
   "pygments_lexer": "ipython3",
   "version": "3.11.5"
  }
 },
 "nbformat": 4,
 "nbformat_minor": 5
}
